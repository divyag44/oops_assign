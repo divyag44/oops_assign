{
 "cells": [
  {
   "cell_type": "markdown",
   "id": "6d10de63-e67e-421e-b12d-4a7640077ad9",
   "metadata": {},
   "source": [
    "### Q1. Explain Class and Object with respect to Object-Oriented Programming. Give a suitable example."
   ]
  },
  {
   "cell_type": "markdown",
   "id": "aa2c535e-59f2-4584-b195-193afc993586",
   "metadata": {},
   "source": [
    "### answer. Class is a detailed description, the definition, and the template of what an object will be. But it is not the object itself. Also, what we call, a class is the building block that leads to Object-Oriented Programming."
   ]
  },
  {
   "cell_type": "code",
   "execution_count": 1,
   "id": "c5253d98-8c0a-42c0-9bdb-302e22348f27",
   "metadata": {},
   "outputs": [
    {
     "name": "stdout",
     "output_type": "stream",
     "text": [
      "Name: Mountain Bike, Gears: 11 \n"
     ]
    }
   ],
   "source": [
    "#example\n",
    "class Bike:\n",
    "    name = \"\"\n",
    "    gear = 0\n",
    "\n",
    "bike1 = Bike()\n",
    "\n",
    "bike1.gear = 11\n",
    "bike1.name = \"Mountain Bike\"\n",
    "\n",
    "print(f\"Name: {bike1.name}, Gears: {bike1.gear} \")"
   ]
  },
  {
   "cell_type": "markdown",
   "id": "a2365396-491e-4763-8a33-84a4db933650",
   "metadata": {},
   "source": [
    "## Q2. Name the four pillars of OOPs."
   ]
  },
  {
   "cell_type": "markdown",
   "id": "6a2bbbe9-b65a-4b5b-bf52-80326401dc17",
   "metadata": {},
   "source": [
    "### answer.The four pillars for OOP are Abstraction, Encapsulation, Inheritance, Polymorphism. 1.Abstraction Abstraction is the process of showing only essential/necessary features of an entity/object to the outside world and hide the other irrelevant information."
   ]
  },
  {
   "cell_type": "markdown",
   "id": "f3174637-9f01-44fa-be75-26a4c3da7265",
   "metadata": {},
   "source": [
    "### Q3. Explain why the __init__() function is used. Give a suitable example."
   ]
  },
  {
   "cell_type": "markdown",
   "id": "02156c47-cf50-4e10-b915-110771d2db37",
   "metadata": {},
   "source": [
    "### answer.All classes have a function called __init__ (), which is always executed when the class is being initiated. Use the __init__ () function to assign values to object properties, or other operations that are necessary to do when the object is being created"
   ]
  },
  {
   "cell_type": "code",
   "execution_count": null,
   "id": "9b6eb348-0b8e-4bb1-b946-89a26793bcd0",
   "metadata": {},
   "outputs": [],
   "source": [
    "#example\n",
    "class Person:\n",
    "  def __init__(self, name, age):\n",
    "    self.name = name\n",
    "    self.age = age\n",
    "\n",
    "p1 = Person(\"John\", 36)\n",
    "\n",
    "print(p1.name)\n",
    "print(p1.age)"
   ]
  },
  {
   "cell_type": "markdown",
   "id": "f2e681d1-f8f3-4201-b9cd-a0655066bb01",
   "metadata": {},
   "source": [
    "## Q4. Why self is used in OOPs?"
   ]
  },
  {
   "cell_type": "markdown",
   "id": "c23c66b4-91ce-4a34-9cf9-2e9093198d1b",
   "metadata": {},
   "source": [
    "### answer.self represents the instance of the class. By using the “self”  we can access the attributes and methods of the class in python. It binds the attributes with the given arguments."
   ]
  },
  {
   "cell_type": "markdown",
   "id": "57943b3f-4727-40c3-a4bf-ef1fd5a87efd",
   "metadata": {},
   "source": [
    "## Q5. What is inheritance? Give an example for each type of inheritance."
   ]
  },
  {
   "cell_type": "markdown",
   "id": "5a1b39f5-efde-45fc-8818-99aa078e6cf9",
   "metadata": {},
   "source": [
    "### answer. Inheritance is the ability of one class to inherit another class. Inheritance provides reusability of code and allows us to create complex and real-world-like relationships among objects."
   ]
  },
  {
   "cell_type": "code",
   "execution_count": 3,
   "id": "2deb2f36-03a7-4e8d-b21b-2b4cb21f639e",
   "metadata": {},
   "outputs": [
    {
     "name": "stdout",
     "output_type": "stream",
     "text": [
      "<class '__main__.ParentClass'>\n",
      "<class '__main__.ChildClass'>\n"
     ]
    }
   ],
   "source": [
    "#example\n",
    "class ParentClass:\n",
    "    pass\n",
    "print(ParentClass)\n",
    "class ChildClass(ParentClass):\n",
    "    pass\n",
    "print(ChildClass)"
   ]
  },
  {
   "cell_type": "code",
   "execution_count": 4,
   "id": "739352a0-8aea-485d-b06c-a490335ab0e9",
   "metadata": {},
   "outputs": [
    {
     "name": "stdout",
     "output_type": "stream",
     "text": [
      "PythonGeeks\n"
     ]
    }
   ],
   "source": [
    "#example 2\n",
    "class ParentClass:\n",
    "    string = \"PythonGeeks\"\n",
    "    def display(self):\n",
    "        return self.string\n",
    "class ChildClass(ParentClass):\n",
    "    pass\n",
    "child = ChildClass()\n",
    "print(child.display())"
   ]
  },
  {
   "cell_type": "code",
   "execution_count": null,
   "id": "4b6cedd5-2d3c-4d29-9600-84c14de721c0",
   "metadata": {},
   "outputs": [],
   "source": []
  }
 ],
 "metadata": {
  "kernelspec": {
   "display_name": "Python 3 (ipykernel)",
   "language": "python",
   "name": "python3"
  },
  "language_info": {
   "codemirror_mode": {
    "name": "ipython",
    "version": 3
   },
   "file_extension": ".py",
   "mimetype": "text/x-python",
   "name": "python",
   "nbconvert_exporter": "python",
   "pygments_lexer": "ipython3",
   "version": "3.10.8"
  }
 },
 "nbformat": 4,
 "nbformat_minor": 5
}
